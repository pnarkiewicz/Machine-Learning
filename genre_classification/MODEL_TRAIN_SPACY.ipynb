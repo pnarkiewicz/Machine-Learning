{
 "cells": [
  {
   "attachments": {},
   "cell_type": "markdown",
   "metadata": {},
   "source": [
    "2. Build 2 models and unittest them:\n",
    "    - ready-to-use model from a popular library\n",
    "    - implement LSTM with PyTorch\n",
    "    - implement Doc2Vec with NNs (*) - done\n",
    "    - implement a model using transformers ^^\n",
    "\n",
    "3. Train & debug models:\n",
    "    - ready-to-use: 0-small # of bugs expected\n",
    "    - LSTM: moderate # of bugs expected\n",
    "    - Transformers: high # of bugs expected\n",
    "\n",
    "4. Test models"
   ]
  },
  {
   "cell_type": "code",
   "execution_count": 1,
   "metadata": {},
   "outputs": [
    {
     "data": {
      "text/html": [
       "<div>\n",
       "<style scoped>\n",
       "    .dataframe tbody tr th:only-of-type {\n",
       "        vertical-align: middle;\n",
       "    }\n",
       "\n",
       "    .dataframe tbody tr th {\n",
       "        vertical-align: top;\n",
       "    }\n",
       "\n",
       "    .dataframe thead th {\n",
       "        text-align: right;\n",
       "    }\n",
       "</style>\n",
       "<table border=\"1\" class=\"dataframe\">\n",
       "  <thead>\n",
       "    <tr style=\"text-align: right;\">\n",
       "      <th></th>\n",
       "      <th>title</th>\n",
       "      <th>year</th>\n",
       "      <th>genre</th>\n",
       "      <th>description</th>\n",
       "    </tr>\n",
       "  </thead>\n",
       "  <tbody>\n",
       "    <tr>\n",
       "      <th>0</th>\n",
       "      <td>Oscar et la dame rose</td>\n",
       "      <td>2009</td>\n",
       "      <td>drama</td>\n",
       "      <td>Listening in to a conversation between his doc...</td>\n",
       "    </tr>\n",
       "    <tr>\n",
       "      <th>1</th>\n",
       "      <td>Cupid</td>\n",
       "      <td>1997</td>\n",
       "      <td>thriller</td>\n",
       "      <td>A brother and sister with a past incestuous re...</td>\n",
       "    </tr>\n",
       "    <tr>\n",
       "      <th>2</th>\n",
       "      <td>Young, Wild and Wonderful</td>\n",
       "      <td>1980</td>\n",
       "      <td>adult</td>\n",
       "      <td>As the bus empties the students for their fiel...</td>\n",
       "    </tr>\n",
       "    <tr>\n",
       "      <th>3</th>\n",
       "      <td>The Secret Sin</td>\n",
       "      <td>1915</td>\n",
       "      <td>drama</td>\n",
       "      <td>To help their unemployed father make ends meet...</td>\n",
       "    </tr>\n",
       "    <tr>\n",
       "      <th>4</th>\n",
       "      <td>The Unrecovered</td>\n",
       "      <td>2007</td>\n",
       "      <td>drama</td>\n",
       "      <td>The film's title refers not only to the un-rec...</td>\n",
       "    </tr>\n",
       "  </tbody>\n",
       "</table>\n",
       "</div>"
      ],
      "text/plain": [
       "                       title  year     genre  \\\n",
       "0      Oscar et la dame rose  2009     drama   \n",
       "1                      Cupid  1997  thriller   \n",
       "2  Young, Wild and Wonderful  1980     adult   \n",
       "3             The Secret Sin  1915     drama   \n",
       "4            The Unrecovered  2007     drama   \n",
       "\n",
       "                                         description  \n",
       "0  Listening in to a conversation between his doc...  \n",
       "1  A brother and sister with a past incestuous re...  \n",
       "2  As the bus empties the students for their fiel...  \n",
       "3  To help their unemployed father make ends meet...  \n",
       "4  The film's title refers not only to the un-rec...  "
      ]
     },
     "execution_count": 1,
     "metadata": {},
     "output_type": "execute_result"
    }
   ],
   "source": [
    "import pandas as pd\n",
    "df_train = pd.read_csv('Genre Classification Dataset/train_dataframe.csv')\n",
    "df_train.head()"
   ]
  },
  {
   "cell_type": "code",
   "execution_count": 2,
   "metadata": {},
   "outputs": [
    {
     "data": {
      "text/html": [
       "<div>\n",
       "<style scoped>\n",
       "    .dataframe tbody tr th:only-of-type {\n",
       "        vertical-align: middle;\n",
       "    }\n",
       "\n",
       "    .dataframe tbody tr th {\n",
       "        vertical-align: top;\n",
       "    }\n",
       "\n",
       "    .dataframe thead th {\n",
       "        text-align: right;\n",
       "    }\n",
       "</style>\n",
       "<table border=\"1\" class=\"dataframe\">\n",
       "  <thead>\n",
       "    <tr style=\"text-align: right;\">\n",
       "      <th></th>\n",
       "      <th>title</th>\n",
       "      <th>year</th>\n",
       "      <th>genre</th>\n",
       "      <th>description</th>\n",
       "    </tr>\n",
       "  </thead>\n",
       "  <tbody>\n",
       "    <tr>\n",
       "      <th>0</th>\n",
       "      <td>Edgar's Lunch</td>\n",
       "      <td>1998</td>\n",
       "      <td>thriller</td>\n",
       "      <td>L.R. Brane loves his life - his car, his apart...</td>\n",
       "    </tr>\n",
       "    <tr>\n",
       "      <th>1</th>\n",
       "      <td>La guerra de papá</td>\n",
       "      <td>1977</td>\n",
       "      <td>comedy</td>\n",
       "      <td>Spain, March 1964: Quico is a very naughty chi...</td>\n",
       "    </tr>\n",
       "    <tr>\n",
       "      <th>2</th>\n",
       "      <td>Off the Beaten Track</td>\n",
       "      <td>2010</td>\n",
       "      <td>documentary</td>\n",
       "      <td>One year in the life of Albin and his family o...</td>\n",
       "    </tr>\n",
       "    <tr>\n",
       "      <th>3</th>\n",
       "      <td>Meu Amigo Hindu</td>\n",
       "      <td>2015</td>\n",
       "      <td>drama</td>\n",
       "      <td>His father has died, he hasn't spoken with his...</td>\n",
       "    </tr>\n",
       "    <tr>\n",
       "      <th>4</th>\n",
       "      <td>Er nu zhai</td>\n",
       "      <td>1955</td>\n",
       "      <td>drama</td>\n",
       "      <td>Before he was known internationally as a marti...</td>\n",
       "    </tr>\n",
       "  </tbody>\n",
       "</table>\n",
       "</div>"
      ],
      "text/plain": [
       "                  title  year        genre  \\\n",
       "0         Edgar's Lunch  1998     thriller   \n",
       "1     La guerra de papá  1977       comedy   \n",
       "2  Off the Beaten Track  2010  documentary   \n",
       "3       Meu Amigo Hindu  2015        drama   \n",
       "4            Er nu zhai  1955        drama   \n",
       "\n",
       "                                         description  \n",
       "0  L.R. Brane loves his life - his car, his apart...  \n",
       "1  Spain, March 1964: Quico is a very naughty chi...  \n",
       "2  One year in the life of Albin and his family o...  \n",
       "3  His father has died, he hasn't spoken with his...  \n",
       "4  Before he was known internationally as a marti...  "
      ]
     },
     "execution_count": 2,
     "metadata": {},
     "output_type": "execute_result"
    }
   ],
   "source": [
    "df_test = pd.read_csv('Genre Classification Dataset/test_dataframe.csv')\n",
    "df_test.head()"
   ]
  },
  {
   "cell_type": "code",
   "execution_count": 3,
   "metadata": {},
   "outputs": [],
   "source": [
    "GENRES_NAMES = [\n",
    "    'action', 'adult', 'adventure',\n",
    "    'animation', 'biography', 'comedy', 'crime', 'documentary', 'drama',\n",
    "    'family', 'fantasy', 'game-show', 'history', 'horror', 'music',\n",
    "    'musical', 'mystery', 'news', 'reality-tv', 'romance', 'sci-fi',\n",
    "    'short', 'sport', 'talk-show', 'thriller', 'war', 'western'\n",
    "]\n",
    "GENRES_NUMBERS = {} \n",
    "for i, v in enumerate(GENRES_NAMES):\n",
    "    GENRES_NUMBERS[v] = i"
   ]
  },
  {
   "cell_type": "code",
   "execution_count": 4,
   "metadata": {},
   "outputs": [],
   "source": [
    "def join_text(row):\n",
    "    return '. '.join([row['title'], row['year'], row['description']])\n",
    "    \n",
    "df_train['joined_text'] = df_train.apply(join_text, axis=1)\n",
    "df_test['joined_text'] = df_test.apply(join_text, axis=1)"
   ]
  },
  {
   "cell_type": "code",
   "execution_count": 5,
   "metadata": {},
   "outputs": [
    {
     "name": "stderr",
     "output_type": "stream",
     "text": [
      "/opt/miniconda3/envs/deepsenseai/lib/python3.10/site-packages/tqdm/auto.py:22: TqdmWarning: IProgress not found. Please update jupyter and ipywidgets. See https://ipywidgets.readthedocs.io/en/stable/user_install.html\n",
      "  from .autonotebook import tqdm as notebook_tqdm\n",
      "100%|██████████| 54214/54214 [00:25<00:00, 2155.74it/s]\n",
      "100%|██████████| 54200/54200 [00:22<00:00, 2370.16it/s]\n"
     ]
    }
   ],
   "source": [
    "from tqdm import tqdm\n",
    "import spacy\n",
    "\n",
    "nlp = spacy.blank(\"en\")\n",
    "\n",
    "def make_save_docs(data, outfile):\n",
    "    \"\"\"\n",
    "    this will take a list of texts and labels \n",
    "    and transform them in spacy documents\n",
    "    \n",
    "    data: list(tuple(text, label))\n",
    "    \n",
    "    returns: List(spacy.Doc.doc)\n",
    "    \"\"\"\n",
    "    \n",
    "    docs = []\n",
    "    db = spacy.tokens.DocBin()\n",
    "    \n",
    "    for doc, label in tqdm(nlp.pipe(data, as_tuples=True), total = len(data)):\n",
    "        \n",
    "        assert type(doc.text) == str, f\"{doc.text} isn't of string type\"\n",
    "        assert type(label), f\"{label} isn't of string type\"\n",
    "        \n",
    "        for GENRE in GENRES_NAMES:\n",
    "            doc.cats[GENRE] = label == GENRE\n",
    "\n",
    "        docs.append(doc)\n",
    "        db.add(doc)\n",
    "\n",
    "    db.to_disk(outfile)\n",
    "    \n",
    "    return docs\n",
    "\n",
    "datatrain = list(df_train[['joined_text', 'genre']].sample(frac=1).itertuples(index=False, name=None))\n",
    "datatest = list(df_test[['joined_text', 'genre']].sample(frac=1).itertuples(index=False, name=None))\n",
    "\n",
    "train_data = make_save_docs(datatrain, 'train.spacy')\n",
    "dev_data = make_save_docs(datatest, 'dev.spacy')"
   ]
  },
  {
   "cell_type": "code",
   "execution_count": 8,
   "metadata": {},
   "outputs": [
    {
     "name": "stdout",
     "output_type": "stream",
     "text": [
      "\u001b[38;5;2m✔ Auto-filled config with all values\u001b[0m\n",
      "\u001b[38;5;2m✔ Saved config\u001b[0m\n",
      "config.cfg\n",
      "You can now add your data and train your pipeline:\n",
      "python -m spacy train config.cfg --paths.train ./train.spacy --paths.dev ./dev.spacy\n"
     ]
    }
   ],
   "source": [
    "!python -m spacy init fill-config base_config.cfg config.cfg"
   ]
  },
  {
   "cell_type": "code",
   "execution_count": 9,
   "metadata": {},
   "outputs": [
    {
     "name": "stdout",
     "output_type": "stream",
     "text": [
      "\u001b[38;5;2m✔ Created output directory: output\u001b[0m\n",
      "\u001b[38;5;4mℹ Saving to output directory: output\u001b[0m\n",
      "\u001b[38;5;4mℹ Using CPU\u001b[0m\n",
      "\u001b[1m\n",
      "=========================== Initializing pipeline ===========================\u001b[0m\n",
      "[2023-01-11 15:16:14,144] [INFO] Set up nlp object from config\n",
      "[2023-01-11 15:16:14,150] [INFO] Pipeline: ['tok2vec', 'textcat']\n",
      "[2023-01-11 15:16:14,151] [INFO] Created vocabulary\n",
      "[2023-01-11 15:16:15,248] [INFO] Added vectors: en_core_web_lg\n",
      "[2023-01-11 15:16:16,893] [INFO] Finished initializing nlp object\n",
      "[2023-01-11 15:17:09,192] [INFO] Initialized pipeline components: ['tok2vec', 'textcat']\n",
      "\u001b[38;5;2m✔ Initialized pipeline\u001b[0m\n",
      "\u001b[1m\n",
      "============================= Training pipeline =============================\u001b[0m\n",
      "\u001b[38;5;4mℹ Pipeline: ['tok2vec', 'textcat']\u001b[0m\n",
      "\u001b[38;5;4mℹ Initial learn rate: 0.001\u001b[0m\n",
      "E    #       LOSS TOK2VEC  LOSS TEXTCAT  CATS_SCORE  SCORE \n",
      "---  ------  ------------  ------------  ----------  ------\n",
      "  0       0          0.00          0.04        0.00    0.00\n",
      "  0     200         16.62          7.56        1.77    0.02\n",
      "  0     400         26.88          7.18        1.46    0.01\n",
      "  0     600          6.61          7.15        2.14    0.02\n",
      "  0     800          7.69          6.59        0.00    0.00\n",
      "  0    1000         12.65          6.43        3.25    0.03\n",
      "  0    1200          6.70          6.48        0.09    0.00\n",
      "  0    1400          5.26          6.17        2.52    0.03\n",
      "  0    1600          5.31          5.80        1.87    0.02\n",
      "  0    1800          9.17          5.51        3.02    0.03\n",
      "  0    2000         21.57          5.62        3.08    0.03\n",
      "  0    2200         19.43          5.55        4.81    0.05\n",
      "  0    2400         30.98          5.14        5.39    0.05\n",
      "  0    2600         45.75          5.09        7.05    0.07\n",
      "  0    2800         44.49          5.00        8.51    0.09\n",
      "  0    3000         58.52          5.11        8.31    0.08\n",
      "^C\n"
     ]
    }
   ],
   "source": [
    "!python3 -m spacy train config.cfg --output ./output --paths.train train.spacy --paths.dev dev.spacy"
   ]
  }
 ],
 "metadata": {
  "kernelspec": {
   "display_name": "deepsenseai",
   "language": "python",
   "name": "python3"
  },
  "language_info": {
   "codemirror_mode": {
    "name": "ipython",
    "version": 3
   },
   "file_extension": ".py",
   "mimetype": "text/x-python",
   "name": "python",
   "nbconvert_exporter": "python",
   "pygments_lexer": "ipython3",
   "version": "3.10.8"
  },
  "orig_nbformat": 4,
  "vscode": {
   "interpreter": {
    "hash": "eb7720597c668dab0846ca2cc640fd001ce837d43a9c71f81a265cbfaca086e6"
   }
  }
 },
 "nbformat": 4,
 "nbformat_minor": 2
}
