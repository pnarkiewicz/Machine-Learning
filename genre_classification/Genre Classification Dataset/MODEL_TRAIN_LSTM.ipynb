{
 "cells": [
  {
   "cell_type": "code",
   "execution_count": null,
   "metadata": {},
   "outputs": [],
   "source": [
    "import pandas as pd\n",
    "df_train = pd.read_csv('Genre Classification Dataset/train_dataframe.csv')\n",
    "df_train.head()"
   ]
  },
  {
   "cell_type": "code",
   "execution_count": null,
   "metadata": {},
   "outputs": [],
   "source": []
  },
  {
   "cell_type": "code",
   "execution_count": null,
   "metadata": {},
   "outputs": [],
   "source": [
    "df_test = pd.read_csv('Genre Classification Dataset/test_dataframe.csv')\n",
    "df_test.head()"
   ]
  },
  {
   "cell_type": "code",
   "execution_count": null,
   "metadata": {},
   "outputs": [],
   "source": [
    "GENRES_NAMES = [\n",
    "    'action', 'adult', 'adventure',\n",
    "    'animation', 'biography', 'comedy', 'crime', 'documentary', 'drama',\n",
    "    'family', 'fantasy', 'game-show', 'history', 'horror', 'music',\n",
    "    'musical', 'mystery', 'news', 'reality-tv', 'romance', 'sci-fi',\n",
    "    'short', 'sport', 'talk-show', 'thriller', 'war', 'western'\n",
    "]\n",
    "GENRES_NUMBERS = {} \n",
    "for i, v in enumerate(GENRES_NAMES):\n",
    "    GENRES_NUMBERS[v] = i"
   ]
  },
  {
   "cell_type": "code",
   "execution_count": null,
   "metadata": {},
   "outputs": [],
   "source": [
    "from torch import nn\n",
    "\n",
    "rnn = nn.LSTM()"
   ]
  },
  {
   "cell_type": "code",
   "execution_count": null,
   "metadata": {},
   "outputs": [],
   "source": [
    "for i in range(epochs):\n",
    "    train(i, model, loss, optimizer)"
   ]
  },
  {
   "cell_type": "code",
   "execution_count": null,
   "metadata": {},
   "outputs": [],
   "source": [
    "#next plan"
   ]
  }
 ],
 "metadata": {
  "kernelspec": {
   "display_name": "deepsenseai",
   "language": "python",
   "name": "python3"
  },
  "language_info": {
   "name": "python",
   "version": "3.10.8 | packaged by conda-forge | (main, Nov 22 2022, 08:25:29) [Clang 14.0.6 ]"
  },
  "orig_nbformat": 4,
  "vscode": {
   "interpreter": {
    "hash": "eb7720597c668dab0846ca2cc640fd001ce837d43a9c71f81a265cbfaca086e6"
   }
  }
 },
 "nbformat": 4,
 "nbformat_minor": 2
}
