{
 "cells": [
  {
   "cell_type": "code",
   "execution_count": null,
   "metadata": {},
   "outputs": [],
   "source": [
    "import pandas as pd\n",
    "df_train = pd.read_csv('Genre Classification Dataset/train_dataframe.csv')\n",
    "df_train.head()"
   ]
  },
  {
   "cell_type": "code",
   "execution_count": null,
   "metadata": {},
   "outputs": [],
   "source": [
    "df_test = pd.read_csv('Genre Classification Dataset/test_dataframe.csv')\n",
    "df_test.head()"
   ]
  },
  {
   "cell_type": "code",
   "execution_count": null,
   "metadata": {},
   "outputs": [],
   "source": [
    "GENRES_NAMES = [\n",
    "    'action', 'adult', 'adventure',\n",
    "    'animation', 'biography', 'comedy', 'crime', 'documentary', 'drama',\n",
    "    'family', 'fantasy', 'game-show', 'history', 'horror', 'music',\n",
    "    'musical', 'mystery', 'news', 'reality-tv', 'romance', 'sci-fi',\n",
    "    'short', 'sport', 'talk-show', 'thriller', 'war', 'western'\n",
    "]\n",
    "GENRES_NUMBERS = {} \n",
    "for i, v in enumerate(GENRES_NAMES):\n",
    "    GENRES_NUMBERS[v] = i"
   ]
  },
  {
   "cell_type": "code",
   "execution_count": null,
   "metadata": {},
   "outputs": [],
   "source": []
  }
 ],
 "metadata": {
  "kernelspec": {
   "display_name": "Python 3",
   "language": "python",
   "name": "python3"
  },
  "language_info": {
   "name": "python",
   "version": "3.11.0 (main, Oct 25 2022, 13:57:48) [Clang 13.0.0 (clang-1300.0.29.30)]"
  },
  "orig_nbformat": 4,
  "vscode": {
   "interpreter": {
    "hash": "5c7b89af1651d0b8571dde13640ecdccf7d5a6204171d6ab33e7c296e100e08a"
   }
  }
 },
 "nbformat": 4,
 "nbformat_minor": 2
}
